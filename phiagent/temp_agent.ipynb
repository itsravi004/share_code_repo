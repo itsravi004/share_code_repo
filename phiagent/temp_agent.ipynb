{
 "cells": [
  {
   "cell_type": "code",
   "execution_count": 2,
   "metadata": {},
   "outputs": [
    {
     "name": "stdout",
     "output_type": "stream",
     "text": [
      "Requirement already satisfied: python-dotenv in /Users/giggso/Anaconda/anaconda3/envs/shared_proj/lib/python3.13/site-packages (1.0.1)\n",
      "Note: you may need to restart the kernel to use updated packages.\n"
     ]
    }
   ],
   "source": [
    "#%pip install phidata\n",
    "#%pip install openai\n",
    "#%pip install duckduckgo-search\n",
    "%pip install python-dotenv"
   ]
  },
  {
   "cell_type": "code",
   "execution_count": 4,
   "metadata": {},
   "outputs": [
    {
     "name": "stdout",
     "output_type": "stream",
     "text": [
      "LLM Option is \u001b[1mOllamaLLM\u001b[0m\n",
      "Params: {}\n"
     ]
    }
   ],
   "source": [
    "import os\n",
    "from dotenv import load_dotenv\n",
    "load_dotenv()\n",
    "from langchain_groq import ChatGroq\n",
    "\n",
    "from langchain_ollama import OllamaLLM\n",
    "#llm = OllamaLLM(model = \"qwen2.5-coder\",temperature = 0.8,num_predict = 256)\n",
    "\n",
    "from langchain_core.prompts import ChatPromptTemplate\n",
    "from langchain_core.output_parsers import StrOutputParser\n",
    "\n",
    "os.environ['OPENAI_API_KEY'] = os.getenv('OPENAI_API_KEY')\n",
    "os.environ['LANGCHAIN_API_KEY'] = os.getenv('LANGCHAIN_API_KEY')\n",
    "os.environ[\"LANGCHAIN_TRACING_V2\"] = 'true'\n",
    "os.environ[\"LANGCHAIN_PROJECT\"]=os.getenv('LANGCHAIN_PROJECT')\n",
    "\n",
    "import streamlit as st\n",
    "\n",
    "llm = OllamaLLM(model=\"deepseek-r1:latest\")\n",
    "#llm = ChatGroq(model = \"llama-3.1-8b-instant\",temperature = 0.8,max_tokens = 1024)\n",
    "print(f\"LLM Option is {llm}\")"
   ]
  },
  {
   "cell_type": "code",
   "execution_count": 6,
   "metadata": {},
   "outputs": [
    {
     "data": {
      "text/plain": [
       "\"<think>\\nAlright, so I need to figure out the capital of France. Hmm, let me think about this. I remember learning in school that Paris is a major city there, but wait—is it actually the capital?\\n\\nI know that Paris is famous for landmarks like the Eiffel Tower and the Louvre Museum. Those are definitely part of Paris. But when I think of government buildings or political centers, does Paris have one? I'm pretty sure it's the administrative center, so maybe it is the capital.\\n\\nLet me try to recall any other capitals that I know. For example, Germany has Berlin as its capital, right? Italy has Rome, and Spain has Madrid. So following that pattern, France should have a capital too. If Paris isn't, then who else could be?\\n\\nWait, there's also Lyon in France. Isn't that the second city or something? I think sometimes people confuse them when traveling because they're both big cities, but no, Lyon doesn't have any government buildings as far as I remember.\\n\\nI guess if I'm not entirely sure, maybe I should consider what else I know about France. The country has a lot of historical significance with the fall of the French Revolution and all that. But again, I think that refers more to Paris than the capital.\\n\\nSo putting it all together, even though I'm a bit unsure because sometimes people mix up cities in France, the most consistent answer is that Paris is both one of the larger cities and also the official capital.\\n</think>\\n\\nParis\""
      ]
     },
     "execution_count": 6,
     "metadata": {},
     "output_type": "execute_result"
    }
   ],
   "source": [
    "llm.invoke(\"in one word, What is capital of France?\")"
   ]
  },
  {
   "cell_type": "code",
   "execution_count": 7,
   "metadata": {},
   "outputs": [
    {
     "data": {
      "application/vnd.jupyter.widget-view+json": {
       "model_id": "f7c359fd6eb949f4a23051dd7339fd75",
       "version_major": 2,
       "version_minor": 0
      },
      "text/plain": [
       "Output()"
      ]
     },
     "metadata": {},
     "output_type": "display_data"
    },
    {
     "data": {
      "text/html": [
       "<pre style=\"white-space:pre;overflow-x:auto;line-height:normal;font-family:Menlo,'DejaVu Sans Mono',consolas,'Courier New',monospace\"></pre>\n"
      ],
      "text/plain": []
     },
     "metadata": {},
     "output_type": "display_data"
    }
   ],
   "source": [
    "from phi.agent import Agent\n",
    "from phi.model.openai import OpenAIChat\n",
    "from phi.tools.duckduckgo import DuckDuckGo\n",
    "\n",
    "web_agent = Agent(\n",
    "    name=\"Web Agent\",\n",
    "    model=OpenAIChat(id=\"gpt-3.5-turbo-0125\"),  # Use supported model class\n",
    "    tools=[DuckDuckGo()],\n",
    "    instructions=[\"Always include sources\"],\n",
    "    show_tool_calls=True,\n",
    "    markdown=True,\n",
    ")\n",
    "\n",
    "web_agent.print_response(\"Explain Chaos Theory?\", stream=True)"
   ]
  },
  {
   "cell_type": "code",
   "execution_count": null,
   "metadata": {},
   "outputs": [],
   "source": [
    "# Use run() instead of print_response for more control\n",
    "response = web_agent.run(\"what is capital of Tamil Nadu\", stream=True)\n",
    "\n",
    "for chunk in response:\n",
    "    print(chunk, end=\"\", flush=True)"
   ]
  },
  {
   "cell_type": "code",
   "execution_count": 9,
   "metadata": {},
   "outputs": [
    {
     "data": {
      "application/vnd.jupyter.widget-view+json": {
       "model_id": "dc08e38e26db407cb69f7ae52dc914ac",
       "version_major": 2,
       "version_minor": 0
      },
      "text/plain": [
       "Output()"
      ]
     },
     "metadata": {},
     "output_type": "display_data"
    },
    {
     "data": {
      "text/html": [
       "<pre style=\"white-space:pre;overflow-x:auto;line-height:normal;font-family:Menlo,'DejaVu Sans Mono',consolas,'Courier New',monospace\"></pre>\n"
      ],
      "text/plain": []
     },
     "metadata": {},
     "output_type": "display_data"
    }
   ],
   "source": [
    "from phi.agent import Agent\n",
    "from phi.model.openai import OpenAIChat\n",
    "from phi.tools.duckduckgo import DuckDuckGo\n",
    "\n",
    "web_agent = Agent(\n",
    "    name=\"Web Agent\",\n",
    "    model=OpenAIChat(id=\"gpt-3.5-turbo-0125\"),  # Use supported model class\n",
    "    tools=[DuckDuckGo()],\n",
    "    instructions=[\"Always include sources\"],\n",
    "    show_tool_calls=True,\n",
    "    markdown=True,\n",
    ")\n",
    "\n",
    "web_agent.print_response(\"Explain Chaos Theory?\", stream=True)"
   ]
  },
  {
   "cell_type": "code",
   "execution_count": null,
   "metadata": {},
   "outputs": [],
   "source": []
  }
 ],
 "metadata": {
  "kernelspec": {
   "display_name": "shared_proj",
   "language": "python",
   "name": "python3"
  },
  "language_info": {
   "codemirror_mode": {
    "name": "ipython",
    "version": 3
   },
   "file_extension": ".py",
   "mimetype": "text/x-python",
   "name": "python",
   "nbconvert_exporter": "python",
   "pygments_lexer": "ipython3",
   "version": "3.13.1"
  }
 },
 "nbformat": 4,
 "nbformat_minor": 2
}
