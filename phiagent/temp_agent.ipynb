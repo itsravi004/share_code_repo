{
 "cells": [
  {
   "cell_type": "code",
   "execution_count": null,
   "metadata": {},
   "outputs": [],
   "source": [
    "#%pip install phidata\n",
    "#%pip install openai\n",
    "#%pip install duckduckgo-search\n",
    "%pip install python-dotenv"
   ]
  },
  {
   "cell_type": "code",
   "execution_count": null,
   "metadata": {},
   "outputs": [],
   "source": [
    "import os\n",
    "from dotenv import load_dotenv\n",
    "load_dotenv()\n",
    "from langchain_groq import ChatGroq\n",
    "\n",
    "# from langchain_ollama import OllamaLLM\n",
    "#llm = OllamaLLM(model = \"qwen2.5-coder\",temperature = 0.8,num_predict = 256)\n",
    "\n",
    "from langchain_core.prompts import ChatPromptTemplate\n",
    "from langchain_core.output_parsers import StrOutputParser\n",
    "\n",
    "os.environ['OPENAI_API_KEY'] = os.getenv('OPENAI_API_KEY')\n",
    "os.environ['LANGCHAIN_API_KEY'] = os.getenv('LANGCHAIN_API_KEY')\n",
    "os.environ[\"LANGCHAIN_TRACING_V2\"] = 'true'\n",
    "os.environ[\"LANGCHAIN_PROJECT\"]=os.getenv('LANGCHAIN_PROJECT')\n",
    "\n",
    "import streamlit as st\n",
    "\n",
    "#llm = Ollama(model=\"llama3.1\")\n",
    "llm = ChatGroq(model = \"llama-3.1-8b-instant\",temperature = 0.8,max_tokens = 1024)\n",
    "print(f\"LLM Option is {llm}\")"
   ]
  },
  {
   "cell_type": "code",
   "execution_count": null,
   "metadata": {},
   "outputs": [],
   "source": [
    "llm.invoke(\"What is capital of France?\")"
   ]
  },
  {
   "cell_type": "code",
   "execution_count": null,
   "metadata": {},
   "outputs": [],
   "source": [
    "from phi.agent import Agent\n",
    "from phi.model.openai import OpenAIChat\n",
    "from phi.tools.duckduckgo import DuckDuckGo\n",
    "\n",
    "web_agent = Agent(\n",
    "    name=\"Web Agent\",\n",
    "    model=OpenAIChat(id=\"gpt-3.5-turbo-0125\"),  # Use supported model class\n",
    "    tools=[DuckDuckGo()],\n",
    "    instructions=[\"Always include sources\"],\n",
    "    show_tool_calls=True,\n",
    "    markdown=True,\n",
    ")\n",
    "\n",
    "web_agent.print_response(\"Explain Chaos Theory?\", stream=True)"
   ]
  },
  {
   "cell_type": "code",
   "execution_count": 11,
   "metadata": {},
   "outputs": [
    {
     "name": "stdout",
     "output_type": "stream",
     "text": [
      "content='' content_type='str' event='RunResponse' messages=[Message(role='system', content='## Instructions\\n- Always include sources\\n- Use markdown to format your answers.', name=None, tool_call_id=None, tool_calls=None, audio=None, images=None, videos=None, tool_name=None, tool_args=None, tool_call_error=None, stop_after_tool_call=False, metrics={}, references=None, created_at=1735538076), Message(role='user', content='what is capital of Tamil Nadu', name=None, tool_call_id=None, tool_calls=None, audio=None, images=None, videos=None, tool_name=None, tool_args=None, tool_call_error=None, stop_after_tool_call=False, metrics={}, references=None, created_at=1735538076)] metrics=None model='gpt-3.5-turbo-0125' run_id='01189886-0a42-4c3d-b948-e38ddfd92f81' agent_id='2763cfac-52b4-453b-a4cf-c8c2411eac5f' session_id='30250b8e-b0c6-48be-83b2-c0a6a40089ff' workflow_id=None tools=None images=None videos=None audio=None response_audio=None extra_data=None created_at=1735537751content='The' content_type='str' event='RunResponse' messages=[Message(role='system', content='## Instructions\\n- Always include sources\\n- Use markdown to format your answers.', name=None, tool_call_id=None, tool_calls=None, audio=None, images=None, videos=None, tool_name=None, tool_args=None, tool_call_error=None, stop_after_tool_call=False, metrics={}, references=None, created_at=1735538076), Message(role='user', content='what is capital of Tamil Nadu', name=None, tool_call_id=None, tool_calls=None, audio=None, images=None, videos=None, tool_name=None, tool_args=None, tool_call_error=None, stop_after_tool_call=False, metrics={}, references=None, created_at=1735538076)] metrics=None model='gpt-3.5-turbo-0125' run_id='01189886-0a42-4c3d-b948-e38ddfd92f81' agent_id='2763cfac-52b4-453b-a4cf-c8c2411eac5f' session_id='30250b8e-b0c6-48be-83b2-c0a6a40089ff' workflow_id=None tools=None images=None videos=None audio=None response_audio=None extra_data=None created_at=1735537751content=' capital' content_type='str' event='RunResponse' messages=[Message(role='system', content='## Instructions\\n- Always include sources\\n- Use markdown to format your answers.', name=None, tool_call_id=None, tool_calls=None, audio=None, images=None, videos=None, tool_name=None, tool_args=None, tool_call_error=None, stop_after_tool_call=False, metrics={}, references=None, created_at=1735538076), Message(role='user', content='what is capital of Tamil Nadu', name=None, tool_call_id=None, tool_calls=None, audio=None, images=None, videos=None, tool_name=None, tool_args=None, tool_call_error=None, stop_after_tool_call=False, metrics={}, references=None, created_at=1735538076)] metrics=None model='gpt-3.5-turbo-0125' run_id='01189886-0a42-4c3d-b948-e38ddfd92f81' agent_id='2763cfac-52b4-453b-a4cf-c8c2411eac5f' session_id='30250b8e-b0c6-48be-83b2-c0a6a40089ff' workflow_id=None tools=None images=None videos=None audio=None response_audio=None extra_data=None created_at=1735537751content=' of' content_type='str' event='RunResponse' messages=[Message(role='system', content='## Instructions\\n- Always include sources\\n- Use markdown to format your answers.', name=None, tool_call_id=None, tool_calls=None, audio=None, images=None, videos=None, tool_name=None, tool_args=None, tool_call_error=None, stop_after_tool_call=False, metrics={}, references=None, created_at=1735538076), Message(role='user', content='what is capital of Tamil Nadu', name=None, tool_call_id=None, tool_calls=None, audio=None, images=None, videos=None, tool_name=None, tool_args=None, tool_call_error=None, stop_after_tool_call=False, metrics={}, references=None, created_at=1735538076)] metrics=None model='gpt-3.5-turbo-0125' run_id='01189886-0a42-4c3d-b948-e38ddfd92f81' agent_id='2763cfac-52b4-453b-a4cf-c8c2411eac5f' session_id='30250b8e-b0c6-48be-83b2-c0a6a40089ff' workflow_id=None tools=None images=None videos=None audio=None response_audio=None extra_data=None created_at=1735537751content=' Tamil' content_type='str' event='RunResponse' messages=[Message(role='system', content='## Instructions\\n- Always include sources\\n- Use markdown to format your answers.', name=None, tool_call_id=None, tool_calls=None, audio=None, images=None, videos=None, tool_name=None, tool_args=None, tool_call_error=None, stop_after_tool_call=False, metrics={}, references=None, created_at=1735538076), Message(role='user', content='what is capital of Tamil Nadu', name=None, tool_call_id=None, tool_calls=None, audio=None, images=None, videos=None, tool_name=None, tool_args=None, tool_call_error=None, stop_after_tool_call=False, metrics={}, references=None, created_at=1735538076)] metrics=None model='gpt-3.5-turbo-0125' run_id='01189886-0a42-4c3d-b948-e38ddfd92f81' agent_id='2763cfac-52b4-453b-a4cf-c8c2411eac5f' session_id='30250b8e-b0c6-48be-83b2-c0a6a40089ff' workflow_id=None tools=None images=None videos=None audio=None response_audio=None extra_data=None created_at=1735537751content=' Nadu' content_type='str' event='RunResponse' messages=[Message(role='system', content='## Instructions\\n- Always include sources\\n- Use markdown to format your answers.', name=None, tool_call_id=None, tool_calls=None, audio=None, images=None, videos=None, tool_name=None, tool_args=None, tool_call_error=None, stop_after_tool_call=False, metrics={}, references=None, created_at=1735538076), Message(role='user', content='what is capital of Tamil Nadu', name=None, tool_call_id=None, tool_calls=None, audio=None, images=None, videos=None, tool_name=None, tool_args=None, tool_call_error=None, stop_after_tool_call=False, metrics={}, references=None, created_at=1735538076)] metrics=None model='gpt-3.5-turbo-0125' run_id='01189886-0a42-4c3d-b948-e38ddfd92f81' agent_id='2763cfac-52b4-453b-a4cf-c8c2411eac5f' session_id='30250b8e-b0c6-48be-83b2-c0a6a40089ff' workflow_id=None tools=None images=None videos=None audio=None response_audio=None extra_data=None created_at=1735537751content=' is' content_type='str' event='RunResponse' messages=[Message(role='system', content='## Instructions\\n- Always include sources\\n- Use markdown to format your answers.', name=None, tool_call_id=None, tool_calls=None, audio=None, images=None, videos=None, tool_name=None, tool_args=None, tool_call_error=None, stop_after_tool_call=False, metrics={}, references=None, created_at=1735538076), Message(role='user', content='what is capital of Tamil Nadu', name=None, tool_call_id=None, tool_calls=None, audio=None, images=None, videos=None, tool_name=None, tool_args=None, tool_call_error=None, stop_after_tool_call=False, metrics={}, references=None, created_at=1735538076)] metrics=None model='gpt-3.5-turbo-0125' run_id='01189886-0a42-4c3d-b948-e38ddfd92f81' agent_id='2763cfac-52b4-453b-a4cf-c8c2411eac5f' session_id='30250b8e-b0c6-48be-83b2-c0a6a40089ff' workflow_id=None tools=None images=None videos=None audio=None response_audio=None extra_data=None created_at=1735537751content=' Chennai' content_type='str' event='RunResponse' messages=[Message(role='system', content='## Instructions\\n- Always include sources\\n- Use markdown to format your answers.', name=None, tool_call_id=None, tool_calls=None, audio=None, images=None, videos=None, tool_name=None, tool_args=None, tool_call_error=None, stop_after_tool_call=False, metrics={}, references=None, created_at=1735538076), Message(role='user', content='what is capital of Tamil Nadu', name=None, tool_call_id=None, tool_calls=None, audio=None, images=None, videos=None, tool_name=None, tool_args=None, tool_call_error=None, stop_after_tool_call=False, metrics={}, references=None, created_at=1735538076)] metrics=None model='gpt-3.5-turbo-0125' run_id='01189886-0a42-4c3d-b948-e38ddfd92f81' agent_id='2763cfac-52b4-453b-a4cf-c8c2411eac5f' session_id='30250b8e-b0c6-48be-83b2-c0a6a40089ff' workflow_id=None tools=None images=None videos=None audio=None response_audio=None extra_data=None created_at=1735537751content='.' content_type='str' event='RunResponse' messages=[Message(role='system', content='## Instructions\\n- Always include sources\\n- Use markdown to format your answers.', name=None, tool_call_id=None, tool_calls=None, audio=None, images=None, videos=None, tool_name=None, tool_args=None, tool_call_error=None, stop_after_tool_call=False, metrics={}, references=None, created_at=1735538076), Message(role='user', content='what is capital of Tamil Nadu', name=None, tool_call_id=None, tool_calls=None, audio=None, images=None, videos=None, tool_name=None, tool_args=None, tool_call_error=None, stop_after_tool_call=False, metrics={}, references=None, created_at=1735538076)] metrics=None model='gpt-3.5-turbo-0125' run_id='01189886-0a42-4c3d-b948-e38ddfd92f81' agent_id='2763cfac-52b4-453b-a4cf-c8c2411eac5f' session_id='30250b8e-b0c6-48be-83b2-c0a6a40089ff' workflow_id=None tools=None images=None videos=None audio=None response_audio=None extra_data=None created_at=1735537751"
     ]
    }
   ],
   "source": [
    "# Use run() instead of print_response for more control\n",
    "response = web_agent.run(\"what is capital of Tamil Nadu\", stream=True)\n",
    "\n",
    "for chunk in response:\n",
    "    print(chunk, end=\"\", flush=True)"
   ]
  },
  {
   "cell_type": "code",
   "execution_count": null,
   "metadata": {},
   "outputs": [],
   "source": [
    "from phi.agent import Agent\n",
    "from phi.model.openai import OpenAIChat\n",
    "from phi.tools.duckduckgo import DuckDuckGo\n",
    "\n",
    "web_agent = Agent(\n",
    "    name=\"Web Agent\",\n",
    "    model=OpenAIChat(id=\"gpt-3.5-turbo-0125\"),  # Use supported model class\n",
    "    tools=[DuckDuckGo()],\n",
    "    instructions=[\"Always include sources\"],\n",
    "    show_tool_calls=True,\n",
    "    markdown=True,\n",
    ")\n",
    "\n",
    "web_agent.print_response(\"Explain Chaos Theory?\", stream=True)"
   ]
  }
 ],
 "metadata": {
  "kernelspec": {
   "display_name": "shared_proj",
   "language": "python",
   "name": "python3"
  },
  "language_info": {
   "codemirror_mode": {
    "name": "ipython",
    "version": 3
   },
   "file_extension": ".py",
   "mimetype": "text/x-python",
   "name": "python",
   "nbconvert_exporter": "python",
   "pygments_lexer": "ipython3",
   "version": "3.13.1"
  }
 },
 "nbformat": 4,
 "nbformat_minor": 2
}
