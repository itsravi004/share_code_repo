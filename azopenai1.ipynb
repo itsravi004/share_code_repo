{
 "cells": [
  {
   "cell_type": "code",
   "execution_count": 1,
   "metadata": {},
   "outputs": [
    {
     "data": {
      "text/plain": [
       "True"
      ]
     },
     "execution_count": 1,
     "metadata": {},
     "output_type": "execute_result"
    }
   ],
   "source": [
    "import os\n",
    "#from langchain.document_loaders import PyPDFLoader\n",
    "from langchain.text_splitter import RecursiveCharacterTextSplitter\n",
    "from langchain.embeddings import OpenAIEmbeddings\n",
    "from langchain.vectorstores import FAISS\n",
    "#from langchain.chat_models import AzureChatOpenAI\n",
    "from openai import AzureOpenAI\n",
    "from dotenv import load_dotenv\n",
    "\n",
    "# Load environment variables\n",
    "load_dotenv()\n"
   ]
  },
  {
   "cell_type": "code",
   "execution_count": null,
   "metadata": {},
   "outputs": [],
   "source": []
  },
  {
   "cell_type": "code",
   "execution_count": 2,
   "metadata": {},
   "outputs": [],
   "source": [
    "def ask_question(question):\n",
    "    # Initialize the Azure ChatGPT model\n",
    "    model = AzureOpenAI(\n",
    "        azure_deployment=os.getenv(\"AZURE_OPENAI_DEPLOYMENT_NAME\"),  # Replace with your Azure deployment name\n",
    "        azure_endpoint=os.getenv(\"AZURE_OPENAI_ENDPOINT\") ,  # Replace with your Azure OpenAI endpoint\n",
    "        api_key=os.getenv(\"AZURE_OPENAI_API_KEY\"),\n",
    "        api_version=os.getenv(\"AZURE_OPENAI_API_VERSION\"),\n",
    "    )\n",
    "    # Use the chat.completions.create method instead\n",
    "    response = model.chat.completions.create(\n",
    "        model=os.getenv(\"AZURE_OPENAI_DEPLOYMENT_NAME\"),\n",
    "        messages=[\n",
    "            {\"role\": \"system\", \"content\": \"You are a helpful assistant.\"},\n",
    "            {\"role\": \"user\", \"content\": question}\n",
    "        ]\n",
    "    )\n",
    "    return response.choices[0].message.content"
   ]
  },
  {
   "cell_type": "code",
   "execution_count": 3,
   "metadata": {},
   "outputs": [
    {
     "name": "stdout",
     "output_type": "stream",
     "text": [
      "Answer: As of September 2021, the Prime Minister of Russia is Mikhail Mishustin. He assumed office on January 16, 2020, following the resignation of Dmitry Medvedev.\n"
     ]
    }
   ],
   "source": [
    "if __name__ == \"__main__\":\n",
    "    # Test question\n",
    "    question = \"Who is the Prime Minister of Russia?\"\n",
    "    answer = ask_question(question)\n",
    "    print(\"Answer:\", answer)\n"
   ]
  },
  {
   "cell_type": "code",
   "execution_count": null,
   "metadata": {},
   "outputs": [],
   "source": [
    "EndPoint = os.getenv(\"AZURE_OPENAI_ENDPOINT\")\n",
    "print(EndPoint)\n",
    "Vers = os.getenv(\"AZURE_OPENAI_API_VERSION\")\n",
    "print(Vers)"
   ]
  },
  {
   "cell_type": "code",
   "execution_count": null,
   "metadata": {},
   "outputs": [],
   "source": [
    "embeddings_endpoint = os.getenv(\"AZURE_OPENAI_EMBEDDINGS_ENDPOINT\")\n",
    "embeddings_key = os.getenv(\"AZURE_OPENAI_EMBEDDINGS_KEY\")\n",
    "embeddings_model = os.getenv(\"AZURE_OPENAI_EMBEDDINGS_MODEL\")\n"
   ]
  },
  {
   "cell_type": "code",
   "execution_count": null,
   "metadata": {},
   "outputs": [],
   "source": [
    "client = AzureOpenAI(\n",
    "    azure_endpoint= EndPoint,\n",
    "    api_key= os.getenv(\"AZURE_OPENAI_API_KEY\"),\n",
    "    api_version= Vers\n",
    ")\n"
   ]
  },
  {
   "cell_type": "code",
   "execution_count": null,
   "metadata": {},
   "outputs": [],
   "source": [
    "# Create chat completion\n",
    "response = client.chat.completions.create(\n",
    "    model=\"gpt-35-turbo-16k\",  # Your deployed model name\n",
    "    messages=[\n",
    "        {\"role\": \"user\", \"content\": \"Who is Prime Minister of India?\"}\n",
    "    ]\n",
    ")\n",
    "\n",
    "# Print the response\n",
    "print(response.choices[0].message.content)"
   ]
  },
  {
   "cell_type": "code",
   "execution_count": null,
   "metadata": {},
   "outputs": [],
   "source": []
  }
 ],
 "metadata": {
  "kernelspec": {
   "display_name": "shared_proj",
   "language": "python",
   "name": "python3"
  },
  "language_info": {
   "codemirror_mode": {
    "name": "ipython",
    "version": 3
   },
   "file_extension": ".py",
   "mimetype": "text/x-python",
   "name": "python",
   "nbconvert_exporter": "python",
   "pygments_lexer": "ipython3",
   "version": "3.13.1"
  }
 },
 "nbformat": 4,
 "nbformat_minor": 2
}
